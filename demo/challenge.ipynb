{
 "cells": [
  {
   "cell_type": "code",
   "execution_count": 1,
   "metadata": {},
   "outputs": [],
   "source": [
    "import vipy"
   ]
  },
  {
   "cell_type": "code",
   "execution_count": 2,
   "metadata": {},
   "outputs": [
    {
     "name": "stdout",
     "output_type": "stream",
     "text": [
      "Sequential(\n",
      "  (conv1): KeyedLayer(<Conv2d: in_channels=1, out_channels=6, kernel_size=(3, 3), stride=1, backend=scipy, shape=(4705, 785), nnz=45049>>)\n",
      "  (relu1): ReLU()\n",
      "  (pool1): KeyedLayer(<AvgPool2d: kernel_size=3, stride=2, backend=scipy, shape=(1177, 4705), nnz=11263>>)\n",
      "  (conv2): KeyedLayer(<Conv2d: in_channels=6, out_channels=16, kernel_size=(3, 3), stride=1, backend=scipy, shape=(3137, 1177), nnz=156737>>)\n",
      "  (relu2): ReLU()\n",
      "  (pool2): KeyedLayer(<AvgPool2d: kernel_size=3, stride=2, backend=scipy, shape=(785, 3137), nnz=7185>>)\n",
      "  (fc1): KeyedLayer(<Linear: in_features=784, out_features=120, backend=scipy, shape=(121, 785), nnz=94201>>)\n",
      "  (relu3): ReLU()\n",
      "  (fc2): KeyedLayer(<Linear: in_features=120, out_features=84, backend=scipy, shape=(85, 121), nnz=10165>>)\n",
      "  (relu4): ReLU()\n",
      "  (fc3): KeyedLayer(<Linear: in_features=84, out_features=10, backend=scipy, shape=(11, 85), nnz=851>>)\n",
      ")\n",
      "<PublicKeyedSensor: height=28, width=28, channels=1>\n"
     ]
    }
   ],
   "source": [
    "# Load the public keynet and the public sensor\n",
    "(ksensor, knet) = vipy.util.load('keynet_challenge_lenet_10AUG20.pkl')\n",
    "\n",
    "# The keynet was constructed from a source LeNet model, with private layer keys.  \n",
    "# The keynet is available to you for inspection\n",
    "# The weights for the source LeNet model are not available to you, but the topology is available:\n",
    "# https://github.com/visym/keynet/blob/master/keynet/mnist.py#L49-L63\n",
    "print(knet)\n",
    "\n",
    "# The keyed sensor was constructed using a private image key\n",
    "# The image key is not available to you.\n",
    "# The output of the keyed sensor is available to you in the image 'keynet_challenge_lenet_10AUG20.png'\n",
    "# We provide an PublicKeyedSensor object that will marshal an encrypted image for keynet encoding\n",
    "print(ksensor)"
   ]
  },
  {
   "cell_type": "code",
   "execution_count": 3,
   "metadata": {},
   "outputs": [
    {
     "name": "stdout",
     "output_type": "stream",
     "text": [
      "<vipy.image: height=28, width=28, color=rgb, filename=\"keynet_challenge_lenet_10AUG20.png\", filename=\"keynet_challenge_lenet_10AUG20.png\">\n"
     ]
    }
   ],
   "source": [
    "# The challenge image has been encrypted with a private image key that is not available to you\n",
    "im = vipy.image.Image('keynet_challenge_lenet_10AUG20.png').load()\n",
    "print(im)"
   ]
  },
  {
   "cell_type": "code",
   "execution_count": 4,
   "metadata": {},
   "outputs": [
    {
     "data": {
      "image/png": "[encoded data removed]",
      "text/plain": [
       "<Figure size 28x28 with 1 Axes>"
      ]
     },
     "metadata": {
      "needs_background": "light"
     },
     "output_type": "display_data"
    },
    {
     "data": {
      "image/png": "[encoded data removed]",
      "text/plain": [
       "<Figure size 512x512 with 1 Axes>"
      ]
     },
     "metadata": {
      "needs_background": "light"
     },
     "output_type": "display_data"
    },
    {
     "data": {
      "text/plain": [
       "<vipy.image: height=512, width=512, color=rgb, filename=\"keynet_challenge_lenet_10AUG20.png\", filename=\"keynet_challenge_lenet_10AUG20.png\">"
      ]
     },
     "execution_count": 4,
     "metadata": {},
     "output_type": "execute_result"
    }
   ],
   "source": [
    "# You can inspect the encrypted image. \n",
    "# This image is 28x28x1 for input to a lenet style network\n",
    "im.show()\n",
    "\n",
    "# This can also be visualized as a larger image\n",
    "im.clone().maxdim(512, interp='nearest').show()"
   ]
  },
  {
   "cell_type": "code",
   "execution_count": 5,
   "metadata": {},
   "outputs": [
    {
     "name": "stdout",
     "output_type": "stream",
     "text": [
      "[keynet.layer]: forward <PublicKeyedSensor: height=28, width=28, channels=1>\n",
      "[keynet.layer]: forward KeyedLayer(<Conv2d: in_channels=1, out_channels=6, kernel_size=(3, 3), stride=1, backend=scipy, shape=(4705, 785), nnz=45049>>)\n",
      "[keynet.layer]: forward KeyedLayer(<AvgPool2d: kernel_size=3, stride=2, backend=scipy, shape=(1177, 4705), nnz=11263>>)\n",
      "[keynet.layer]: forward KeyedLayer(<Conv2d: in_channels=6, out_channels=16, kernel_size=(3, 3), stride=1, backend=scipy, shape=(3137, 1177), nnz=156737>>)\n",
      "[keynet.layer]: forward KeyedLayer(<AvgPool2d: kernel_size=3, stride=2, backend=scipy, shape=(785, 3137), nnz=7185>>)\n",
      "[keynet.layer]: forward KeyedLayer(<Linear: in_features=784, out_features=120, backend=scipy, shape=(121, 785), nnz=94201>>)\n",
      "[keynet.layer]: forward KeyedLayer(<Linear: in_features=120, out_features=84, backend=scipy, shape=(85, 121), nnz=10165>>)\n",
      "[keynet.layer]: forward KeyedLayer(<Linear: in_features=84, out_features=10, backend=scipy, shape=(11, 85), nnz=851>>)\n"
     ]
    }
   ],
   "source": [
    "# Load this image, and perform a forward pass through the keynet returning a public encoding\n",
    "yh = knet.forward(ksensor.load('keynet_challenge_lenet_10AUG20.png').tensor())"
   ]
  },
  {
   "cell_type": "code",
   "execution_count": 6,
   "metadata": {},
   "outputs": [
    {
     "name": "stdout",
     "output_type": "stream",
     "text": [
      "Public Image: [[[ 23  23  23]\n",
      "  [ 21  21  21]\n",
      "  [  9   9   9]\n",
      "  ...\n",
      "  [ 44  44  44]\n",
      "  [  1   1   1]\n",
      "  [ 22  22  22]]\n",
      "\n",
      " [[ 51  51  51]\n",
      "  [  7   7   7]\n",
      "  [  7   7   7]\n",
      "  ...\n",
      "  [ 47  47  47]\n",
      "  [ 14  14  14]\n",
      "  [ 57  57  57]]\n",
      "\n",
      " [[ 11  11  11]\n",
      "  [ 44  44  44]\n",
      "  [  5   5   5]\n",
      "  ...\n",
      "  [214 214 214]\n",
      "  [ 45  45  45]\n",
      "  [170 170 170]]\n",
      "\n",
      " ...\n",
      "\n",
      " [[ 10  10  10]\n",
      "  [  1   1   1]\n",
      "  [ 36  36  36]\n",
      "  ...\n",
      "  [237 237 237]\n",
      "  [ 14  14  14]\n",
      "  [ 13  13  13]]\n",
      "\n",
      " [[ 49  49  49]\n",
      "  [194 194 194]\n",
      "  [  1   1   1]\n",
      "  ...\n",
      "  [ 21  21  21]\n",
      "  [223 223 223]\n",
      "  [ 38  38  38]]\n",
      "\n",
      " [[ 36  36  36]\n",
      "  [ 24  24  24]\n",
      "  [ 72  72  72]\n",
      "  ...\n",
      "  [  8   8   8]\n",
      "  [ 19  19  19]\n",
      "  [ 13  13  13]]]\n",
      "\n",
      "Public Encoding: tensor([[[-0.0592]],\n",
      "\n",
      "        [[-0.0604]],\n",
      "\n",
      "        [[ 0.0438]],\n",
      "\n",
      "        [[-0.0802]],\n",
      "\n",
      "        [[ 0.0204]],\n",
      "\n",
      "        [[ 0.0233]],\n",
      "\n",
      "        [[-0.0330]],\n",
      "\n",
      "        [[ 0.0081]],\n",
      "\n",
      "        [[ 0.0433]],\n",
      "\n",
      "        [[-0.0841]]])\n",
      "\n",
      "Public keynet: Sequential(\n",
      "  (conv1): KeyedLayer(<Conv2d: in_channels=1, out_channels=6, kernel_size=(3, 3), stride=1, backend=scipy, shape=(4705, 785), nnz=45049>>)\n",
      "  (relu1): ReLU()\n",
      "  (pool1): KeyedLayer(<AvgPool2d: kernel_size=3, stride=2, backend=scipy, shape=(1177, 4705), nnz=11263>>)\n",
      "  (conv2): KeyedLayer(<Conv2d: in_channels=6, out_channels=16, kernel_size=(3, 3), stride=1, backend=scipy, shape=(3137, 1177), nnz=156737>>)\n",
      "  (relu2): ReLU()\n",
      "  (pool2): KeyedLayer(<AvgPool2d: kernel_size=3, stride=2, backend=scipy, shape=(785, 3137), nnz=7185>>)\n",
      "  (fc1): KeyedLayer(<Linear: in_features=784, out_features=120, backend=scipy, shape=(121, 785), nnz=94201>>)\n",
      "  (relu3): ReLU()\n",
      "  (fc2): KeyedLayer(<Linear: in_features=120, out_features=84, backend=scipy, shape=(85, 121), nnz=10165>>)\n",
      "  (relu4): ReLU()\n",
      "  (fc3): KeyedLayer(<Linear: in_features=84, out_features=10, backend=scipy, shape=(11, 85), nnz=851>>)\n",
      ")\n",
      "\n"
     ]
    }
   ],
   "source": [
    "# Your task is to recover the secret message in 'keynet_challenge_lenet.png' \n",
    "# given only the image, the public keynet output and the public keynet\n",
    "(public_image, public_encoding, public_keynet) = (im.numpy(), yh, knet)\n",
    "print('Public Image: %s\\n' % str(public_image))\n",
    "print('Public Encoding: %s\\n' % str(public_encoding))\n",
    "print('Public keynet: %s\\n' % str(public_keynet))\n",
    "\n",
    "# The secret message will tell you how to notify us that you succeeded!  Good luck!"
   ]
  }
 ],
 "metadata": {
  "kernelspec": {
   "display_name": "Python 3",
   "language": "python",
   "name": "python3"
  },
  "language_info": {
   "codemirror_mode": {
    "name": "ipython",
    "version": 3
   },
   "file_extension": ".py",
   "mimetype": "text/x-python",
   "name": "python",
   "nbconvert_exporter": "python",
   "pygments_lexer": "ipython3",
   "version": "3.9.4"
  }
 },
 "nbformat": 4,
 "nbformat_minor": 4
}
