{
 "cells": [
  {
   "cell_type": "code",
   "execution_count": 1,
   "metadata": {},
   "outputs": [],
   "source": [
    "import vipy\n",
    "import torch\n",
    "import numpy as np\n",
    "from keynet.system import PermutationKeynet\n",
    "from keynet.mnist import LeNet_AvgPool"
   ]
  },
  {
   "cell_type": "code",
   "execution_count": 2,
   "metadata": {},
   "outputs": [],
   "source": [
    "# Randomly initialize a lenet torch network \n",
    "net = LeNet_AvgPool()\n",
    "inshape = (1,28,28)"
   ]
  },
  {
   "cell_type": "code",
   "execution_count": 3,
   "metadata": {},
   "outputs": [
    {
     "name": "stdout",
     "output_type": "stream",
     "text": [
      "[keynet.layers.KeyNet]: Keying \"conv1\"\n",
      "[keynet.layers.KeyNet]: Keying \"relu1\"\n",
      "[KeyedLayer]: sparse_toeplitz_conv2d=1.6 seconds\n",
      "[KeyedLayer]: conv2d dot=0.0 seconds\n",
      "[keynet.layers.KeyNet]:     KeyedLayer(<Conv2d: in_channels=1, out_channels=6, kernel_size=(3, 3), stride=1, backend=scipy, shape=(4705, 785), nnz=45049>>)\n",
      "[keynet.layers.KeyNet]:     ReLU()\n",
      "[keynet.layers.KeyNet]: Keying \"pool1\"\n",
      "[KeyedLayer]: sparse_toeplitz_conv2d=0.0 seconds\n",
      "[KeyedLayer]: avgpool2d dot=0.0 seconds\n",
      "[keynet.layers.KeyNet]:     KeyedLayer(<AvgPool2d: kernel_size=3, stride=2, backend=scipy, shape=(1177, 4705), nnz=10087>>)\n",
      "[keynet.layers.KeyNet]: Keying \"conv2\"\n",
      "[keynet.layers.KeyNet]: Keying \"relu2\"\n",
      "[KeyedLayer]: sparse_toeplitz_conv2d=0.0 seconds\n",
      "[KeyedLayer]: conv2d dot=0.0 seconds\n",
      "[keynet.layers.KeyNet]:     KeyedLayer(<Conv2d: in_channels=6, out_channels=16, kernel_size=(3, 3), stride=1, backend=scipy, shape=(3137, 1177), nnz=156737>>)\n",
      "[keynet.layers.KeyNet]:     ReLU()\n",
      "[keynet.layers.KeyNet]: Keying \"pool2\"\n",
      "[KeyedLayer]: sparse_toeplitz_conv2d=0.0 seconds\n",
      "[KeyedLayer]: avgpool2d dot=0.0 seconds\n",
      "[keynet.layers.KeyNet]:     KeyedLayer(<AvgPool2d: kernel_size=3, stride=2, backend=scipy, shape=(785, 3137), nnz=6401>>)\n",
      "[keynet.layers.KeyNet]: Keying \"fc1\"\n",
      "[keynet.layers.KeyNet]: Keying \"relu3\"\n",
      "[keynet.layers.KeyNet]:     KeyedLayer(<Linear: in_features=784, out_features=120, backend=scipy, shape=(121, 785), nnz=94201>>)\n",
      "[keynet.layers.KeyNet]:     ReLU()\n",
      "[keynet.layers.KeyNet]: Keying \"fc2\"\n",
      "[keynet.layers.KeyNet]: Keying \"relu4\"\n",
      "[keynet.layers.KeyNet]:     KeyedLayer(<Linear: in_features=120, out_features=84, backend=scipy, shape=(85, 121), nnz=10165>>)\n",
      "[keynet.layers.KeyNet]:     ReLU()\n",
      "[keynet.layers.KeyNet]: Keying \"fc3\"\n",
      "[keynet.layers.KeyNet]:     KeyedLayer(<Linear: in_features=84, out_features=10, backend=scipy, shape=(11, 85), nnz=851>>)\n"
     ]
    }
   ],
   "source": [
    "# Create a (sensor, model) pair for a keyed sensor and keynet\n",
    "(sensor, knet) = PermutationKeynet(inshape, net, do_output_encryption=False)"
   ]
  },
  {
   "cell_type": "code",
   "execution_count": 4,
   "metadata": {},
   "outputs": [
    {
     "name": "stdout",
     "output_type": "stream",
     "text": [
      "[keynet.layer]: forward <KeyedSensor: height=28, width=28, channels=1>\n",
      "[keynet.layer]: forward KeyedLayer(<Conv2d: in_channels=1, out_channels=6, kernel_size=(3, 3), stride=1, backend=scipy, shape=(4705, 785), nnz=45049>>)\n",
      "[keynet.layer]: forward KeyedLayer(<AvgPool2d: kernel_size=3, stride=2, backend=scipy, shape=(1177, 4705), nnz=10087>>)\n",
      "[keynet.layer]: forward KeyedLayer(<Conv2d: in_channels=6, out_channels=16, kernel_size=(3, 3), stride=1, backend=scipy, shape=(3137, 1177), nnz=156737>>)\n",
      "[keynet.layer]: forward KeyedLayer(<AvgPool2d: kernel_size=3, stride=2, backend=scipy, shape=(785, 3137), nnz=6401>>)\n",
      "[keynet.layer]: forward KeyedLayer(<Linear: in_features=784, out_features=120, backend=scipy, shape=(121, 785), nnz=94201>>)\n",
      "[keynet.layer]: forward KeyedLayer(<Linear: in_features=120, out_features=84, backend=scipy, shape=(85, 121), nnz=10165>>)\n",
      "[keynet.layer]: forward KeyedLayer(<Linear: in_features=84, out_features=10, backend=scipy, shape=(11, 85), nnz=851>>)\n"
     ]
    }
   ],
   "source": [
    "# Load an example image as a torch tensor and encode with the lenet\n",
    "x_plain = sensor.load('owl.jpg').tensor()\n",
    "y = net.forward(x_plain).detach().numpy().flatten()\n",
    "\n",
    "# Load the same image as an encrypted torch tensor and encode with the keynet\n",
    "x_cipher = sensor.load('owl.jpg').encrypt().tensor()\n",
    "yh = knet.forward(x_cipher).detach().numpy().flatten()\n",
    "\n",
    "# The output of the keynet is identical to the output of the source network\n",
    "assert np.allclose(y, yh, atol=1E-5)"
   ]
  },
  {
   "cell_type": "code",
   "execution_count": 5,
   "metadata": {},
   "outputs": [
    {
     "name": "stdout",
     "output_type": "stream",
     "text": [
      "[keynet.layers.KeyNet]: Keying \"conv1\"\n",
      "[keynet.layers.KeyNet]: Keying \"relu1\"\n",
      "[KeyedLayer]: sparse_toeplitz_conv2d=0.0 seconds\n",
      "[KeyedLayer]: conv2d dot=0.0 seconds\n",
      "[keynet.layers.KeyNet]:     KeyedLayer(<Conv2d: in_channels=1, out_channels=6, kernel_size=(3, 3), stride=1, backend=scipy, shape=(4705, 785), nnz=45049>>)\n",
      "[keynet.layers.KeyNet]:     ReLU()\n",
      "[keynet.layers.KeyNet]: Keying \"pool1\"\n",
      "[KeyedLayer]: sparse_toeplitz_conv2d=0.0 seconds\n",
      "[KeyedLayer]: avgpool2d dot=0.0 seconds\n",
      "[keynet.layers.KeyNet]:     KeyedLayer(<AvgPool2d: kernel_size=3, stride=2, backend=scipy, shape=(1177, 4705), nnz=10087>>)\n",
      "[keynet.layers.KeyNet]: Keying \"conv2\"\n",
      "[keynet.layers.KeyNet]: Keying \"relu2\"\n",
      "[KeyedLayer]: sparse_toeplitz_conv2d=0.0 seconds\n",
      "[KeyedLayer]: conv2d dot=0.0 seconds\n",
      "[keynet.layers.KeyNet]:     KeyedLayer(<Conv2d: in_channels=6, out_channels=16, kernel_size=(3, 3), stride=1, backend=scipy, shape=(3137, 1177), nnz=156737>>)\n",
      "[keynet.layers.KeyNet]:     ReLU()\n",
      "[keynet.layers.KeyNet]: Keying \"pool2\"\n",
      "[KeyedLayer]: sparse_toeplitz_conv2d=0.1 seconds\n",
      "[KeyedLayer]: avgpool2d dot=0.0 seconds\n",
      "[keynet.layers.KeyNet]:     KeyedLayer(<AvgPool2d: kernel_size=3, stride=2, backend=scipy, shape=(785, 3137), nnz=6401>>)\n",
      "[keynet.layers.KeyNet]: Keying \"fc1\"\n",
      "[keynet.layers.KeyNet]: Keying \"relu3\"\n",
      "[keynet.layers.KeyNet]:     KeyedLayer(<Linear: in_features=784, out_features=120, backend=scipy, shape=(121, 785), nnz=94201>>)\n",
      "[keynet.layers.KeyNet]:     ReLU()\n",
      "[keynet.layers.KeyNet]: Keying \"fc2\"\n",
      "[keynet.layers.KeyNet]: Keying \"relu4\"\n",
      "[keynet.layers.KeyNet]:     KeyedLayer(<Linear: in_features=120, out_features=84, backend=scipy, shape=(85, 121), nnz=10165>>)\n",
      "[keynet.layers.KeyNet]:     ReLU()\n",
      "[keynet.layers.KeyNet]: Keying \"fc3\"\n",
      "[keynet.layers.KeyNet]:     KeyedLayer(<Linear: in_features=84, out_features=10, backend=scipy, shape=(11, 85), nnz=851>>)\n",
      "[keynet.layer]: forward KeyedLayer(<Conv2d: in_channels=1, out_channels=6, kernel_size=(3, 3), stride=1, backend=scipy, shape=(4705, 785), nnz=45049>>)\n",
      "[keynet.layer]: forward KeyedLayer(<AvgPool2d: kernel_size=3, stride=2, backend=scipy, shape=(1177, 4705), nnz=10087>>)\n",
      "[keynet.layer]: forward KeyedLayer(<Conv2d: in_channels=6, out_channels=16, kernel_size=(3, 3), stride=1, backend=scipy, shape=(3137, 1177), nnz=156737>>)\n",
      "[keynet.layer]: forward KeyedLayer(<AvgPool2d: kernel_size=3, stride=2, backend=scipy, shape=(785, 3137), nnz=6401>>)\n",
      "[keynet.layer]: forward KeyedLayer(<Linear: in_features=784, out_features=120, backend=scipy, shape=(121, 785), nnz=94201>>)\n",
      "[keynet.layer]: forward KeyedLayer(<Linear: in_features=120, out_features=84, backend=scipy, shape=(85, 121), nnz=10165>>)\n",
      "[keynet.layer]: forward KeyedLayer(<Linear: in_features=84, out_features=10, backend=scipy, shape=(11, 85), nnz=851>>)\n"
     ]
    }
   ],
   "source": [
    "# Create another (sensor, model) pair\n",
    "(another_sensor, another_keynet) = PermutationKeynet(inshape, net, do_output_encryption=False)\n",
    "\n",
    "# The keyed image cannot be applied to any other keynet\n",
    "yh_another = another_keynet.forward(x_cipher).detach().numpy().flatten()\n",
    "assert not np.allclose(yh, yh_another, atol=1E-5)"
   ]
  },
  {
   "cell_type": "code",
   "execution_count": 6,
   "metadata": {
    "scrolled": false
   },
   "outputs": [
    {
     "data": {
      "image/png": "[encoded data removed]",
      "text/plain": [
       "<Figure size 512x512 with 1 Axes>"
      ]
     },
     "metadata": {
      "needs_background": "light"
     },
     "output_type": "display_data"
    }
   ],
   "source": [
    "# This is the original image, resized to be (28x28), and input into the lenet network\n",
    "im_plain = sensor.decrypt().asimage().resize(512, 512, interp='nearest').show()"
   ]
  },
  {
   "cell_type": "code",
   "execution_count": 7,
   "metadata": {},
   "outputs": [
    {
     "name": "stdout",
     "output_type": "stream",
     "text": [
      "[keynet.layer]: forward <KeyedSensor: height=28, width=28, channels=1>\n"
     ]
    },
    {
     "data": {
      "image/png": "[encoded data removed]",
      "text/plain": [
       "<Figure size 512x512 with 1 Axes>"
      ]
     },
     "metadata": {
      "needs_background": "light"
     },
     "output_type": "display_data"
    },
    {
     "name": "stdout",
     "output_type": "stream",
     "text": [
      "[keynet.layer]: forward <KeyedSensor: height=28, width=28, channels=1>\n"
     ]
    },
    {
     "data": {
      "image/png": "[encoded data removed]",
      "text/plain": [
       "<Figure size 512x512 with 1 Axes>"
      ]
     },
     "metadata": {
      "needs_background": "light"
     },
     "output_type": "display_data"
    }
   ],
   "source": [
    "# These are the keyed images, input to the keynet, which is unrecognizable to a human\n",
    "im_cipher = sensor.encrypt().toimage().resize(512, 512, interp='nearest').show()\n",
    "im_cipher = another_sensor.load('owl.jpg').encrypt().toimage().resize(512, 512, interp='nearest').show()"
   ]
  }
 ],
 "metadata": {
  "kernelspec": {
   "display_name": "Python 3",
   "language": "python",
   "name": "python3"
  },
  "language_info": {
   "codemirror_mode": {
    "name": "ipython",
    "version": 3
   },
   "file_extension": ".py",
   "mimetype": "text/x-python",
   "name": "python",
   "nbconvert_exporter": "python",
   "pygments_lexer": "ipython3",
   "version": "3.7.6"
  }
 },
 "nbformat": 4,
 "nbformat_minor": 4
}
